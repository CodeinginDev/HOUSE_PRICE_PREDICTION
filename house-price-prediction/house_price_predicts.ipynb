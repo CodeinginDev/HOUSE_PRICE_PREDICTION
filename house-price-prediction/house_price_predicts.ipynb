{
 "cells": [
  {
   "cell_type": "code",
   "execution_count": 2,
   "metadata": {},
   "outputs": [
    {
     "name": "stdout",
     "output_type": "stream",
     "text": [
      "R-squared: 0.6171279856258437\n"
     ]
    }
   ],
   "source": [
    "import warnings\n",
    "warnings.filterwarnings('ignore')\n",
    "\n",
    "import pandas as pd\n",
    "import numpy as np\n",
    "\n",
    "import matplotlib.pyplot as plt\n",
    "import seaborn as sns\n",
    "\n",
    "# Load dataset\n",
    "housing = pd.read_csv(r\"C:\\Users\\Aanand Jha\\Desktop\\house-price-prediction\\Housing.csv\")\n",
    "\n",
    "# Data preprocessing\n",
    "varlist = ['mainroad', 'guestroom', 'basement', 'hotwaterheating', 'airconditioning', 'prefarea']\n",
    "\n",
    "def binary_map(x):\n",
    "    return x.map({'yes': 1, \"no\": 0})\n",
    "\n",
    "housing[varlist] = housing[varlist].apply(binary_map)\n",
    "\n",
    "# Get dummies for 'furnishingstatus'\n",
    "status = pd.get_dummies(housing['furnishingstatus'], drop_first=True)\n",
    "housing = pd.concat([housing, status], axis=1)\n",
    "housing.drop(['furnishingstatus'], axis=1, inplace=True)\n",
    "\n",
    "# Split data into train and test sets\n",
    "from sklearn.model_selection import train_test_split\n",
    "\n",
    "np.random.seed(0)\n",
    "df_train, df_test = train_test_split(housing, train_size=0.7, test_size=0.3, random_state=100)\n",
    "\n",
    "# Scaling the numeric variables\n",
    "from sklearn.preprocessing import MinMaxScaler\n",
    "\n",
    "scaler = MinMaxScaler()\n",
    "num_vars = ['area', 'bedrooms', 'bathrooms', 'stories', 'parking', 'price']\n",
    "\n",
    "df_train[num_vars] = scaler.fit_transform(df_train[num_vars])\n",
    "df_test[num_vars] = scaler.transform(df_test[num_vars])\n",
    "\n",
    "# Train the model\n",
    "y_train = df_train.pop('price')\n",
    "X_train = df_train\n",
    "\n",
    "from sklearn.linear_model import LinearRegression\n",
    "from sklearn.feature_selection import RFE\n",
    "\n",
    "lm = LinearRegression()\n",
    "rfe = RFE(estimator=lm, n_features_to_select=6)\n",
    "rfe = rfe.fit(X_train, y_train) \n",
    "\n",
    "col = X_train.columns[rfe.support_]\n",
    "X_train_rfe = X_train[col]\n",
    "\n",
    "import statsmodels.api as sm\n",
    "X_train_rfe = sm.add_constant(X_train_rfe)\n",
    "lm = sm.OLS(y_train, X_train_rfe).fit()\n",
    "\n",
    "# Model evaluation on the test data\n",
    "X_test_rfe = sm.add_constant(df_test[col])\n",
    "y_test = df_test.pop('price')\n",
    "y_pred = lm.predict(X_test_rfe)\n",
    "\n",
    "from sklearn.metrics import r2_score\n",
    "r2 = r2_score(y_test, y_pred)\n",
    "print(f'R-squared: {r2}')\n"
   ]
  },
  {
   "cell_type": "code",
   "execution_count": 5,
   "metadata": {},
   "outputs": [],
   "source": [
    "import pickle\n",
    "\n",
    "# Save the model\n",
    "with open('house_price_model.pkl', 'wb') as file:\n",
    "    pickle.dump(lm, file)\n",
    "\n",
    "# Save the dataframe\n",
    "df_train.to_csv('df_train.csv', index=False)\n",
    "df_test.to_csv('df_test.csv', index=False)\n"
   ]
  },
  {
   "cell_type": "code",
   "execution_count": 7,
   "metadata": {},
   "outputs": [
    {
     "name": "stdout",
     "output_type": "stream",
     "text": [
      "R-squared from loaded model: 0.6171279856258437\n"
     ]
    }
   ],
   "source": [
    "# Load the model\n",
    "with open('house_price_model.pkl', 'rb') as file:\n",
    "    loaded_model = pickle.load(file)\n",
    "\n",
    "# Load the dataframes\n",
    "df_train_loaded = pd.read_csv('df_train.csv')\n",
    "df_test_loaded = pd.read_csv('df_test.csv')\n",
    "\n",
    "# Verify the loaded model by making predictions again\n",
    "X_test_rfe_loaded = sm.add_constant(df_test_loaded[col])\n",
    "y_pred_loaded = loaded_model.predict(X_test_rfe_loaded)\n",
    "\n",
    "# Check the R-squared value\n",
    "r2_loaded = r2_score(y_test, y_pred_loaded)\n",
    "print(f'R-squared from loaded model: {r2_loaded}')\n"
   ]
  },
  {
   "cell_type": "code",
   "execution_count": null,
   "metadata": {},
   "outputs": [],
   "source": []
  },
  {
   "cell_type": "code",
   "execution_count": null,
   "metadata": {},
   "outputs": [],
   "source": []
  },
  {
   "cell_type": "code",
   "execution_count": null,
   "metadata": {},
   "outputs": [],
   "source": []
  },
  {
   "cell_type": "code",
   "execution_count": null,
   "metadata": {},
   "outputs": [],
   "source": []
  }
 ],
 "metadata": {
  "kernelspec": {
   "display_name": "Python 3 (ipykernel)",
   "language": "python",
   "name": "python3"
  },
  "language_info": {
   "codemirror_mode": {
    "name": "ipython",
    "version": 3
   },
   "file_extension": ".py",
   "mimetype": "text/x-python",
   "name": "python",
   "nbconvert_exporter": "python",
   "pygments_lexer": "ipython3",
   "version": "3.12.4"
  }
 },
 "nbformat": 4,
 "nbformat_minor": 4
}
